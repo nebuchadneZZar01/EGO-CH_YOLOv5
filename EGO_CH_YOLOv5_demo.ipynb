{
  "cells": [
    {
      "cell_type": "markdown",
      "metadata": {
        "id": "hbcWjbaLg1JR"
      },
      "source": [
        "# **DEMO CLASSIFICAZIONE PUNTI DI INTERESSE**\n",
        "\n",
        "**Machine Learning 2021/2022**\n",
        "\n",
        "**Michele Ferro 1000037665**\n"
      ]
    },
    {
      "cell_type": "markdown",
      "metadata": {
        "id": "LDo-Bi5kg-xv"
      },
      "source": [
        "# 1 - Download di YOLOv5\n",
        "Mediante la seguente cella è possibile scaricare la versione 5 di YOLO."
      ]
    },
    {
      "cell_type": "code",
      "execution_count": null,
      "metadata": {
        "id": "8k1xCxLDdKmh"
      },
      "outputs": [],
      "source": [
        "!git clone https://github.com/ultralytics/yolov5.git\n",
        "%cd yolov5\n",
        "!pip install -r requirements.txt\n",
        "\n",
        "%cd /content\n",
        "\n",
        "import torch\n",
        "from IPython.display import Image, clear_output\n",
        "clear_output()\n",
        "\n",
        "device = \"cuda\" if torch.cuda.is_available() else \"cpu\"\n",
        "if device == 'cuda':\n",
        "  print(\"TORCH VERSION: \" + torch.__version__ + \"\\nUSING DEVICE: \" + str(torch.cuda.get_device_properties(device)))"
      ]
    },
    {
      "cell_type": "markdown",
      "metadata": {
        "id": "j00V-NWVhGnt"
      },
      "source": [
        "# 2 - Download dei modelli addestrati\n",
        "Si esegua la cella di seguito per scaricare i modelli addestrati durante le varie sperimentazioni."
      ]
    },
    {
      "cell_type": "code",
      "execution_count": null,
      "metadata": {
        "id": "drDAXj4YdgLE"
      },
      "outputs": [],
      "source": [
        "!gdown --id 1pU-v8XTwU8DCGeh74Iuu5z3ldPYfONsW\n",
        "!unzip Projects.zip >> /dev/null\n",
        "!rm Projects.zip"
      ]
    },
    {
      "cell_type": "markdown",
      "metadata": {
        "id": "cJYyePd2hKfv"
      },
      "source": [
        "# 3 - Scelta del modello\n",
        "Eseguendo le celle in questa sezione, è possibile scegliere quale tipologia di modello utilizzare per l'inferenza, e su quale sito culturale."
      ]
    },
    {
      "cell_type": "markdown",
      "metadata": {
        "id": "pa2TRYfnfY-j"
      },
      "source": [
        "## Monastero dei Benedettini\n",
        "Si esegua la seguente cella per utilizzare il modello **small**."
      ]
    },
    {
      "cell_type": "code",
      "execution_count": null,
      "metadata": {
        "id": "5n2rkbBGffTy"
      },
      "outputs": [],
      "source": [
        "!cp /content/Projects/benedettini_small_train/weights/best.pt /content/model.pt"
      ]
    },
    {
      "cell_type": "markdown",
      "metadata": {
        "id": "HTTzLuN4iTLv"
      },
      "source": [
        "Si esegua la seguente cella per utilizzare il modello **small** allenato esclusivamente sul **layer fully-connected**."
      ]
    },
    {
      "cell_type": "code",
      "execution_count": null,
      "metadata": {
        "id": "6BvQDUDXf_zC"
      },
      "outputs": [],
      "source": [
        "!cp /content/Projects/benedettini_small_train_fc/weights/best.pt /content/model.pt"
      ]
    },
    {
      "cell_type": "markdown",
      "metadata": {
        "id": "6vexE-pOicB3"
      },
      "source": [
        "Si esegua la seguente cella per utilizzare il modello **medium**."
      ]
    },
    {
      "cell_type": "code",
      "execution_count": null,
      "metadata": {
        "id": "ND5grNahgM4W"
      },
      "outputs": [],
      "source": [
        "!cp /content/Projects/benedettini_medium_train/weights/best.pt /content/model.pt"
      ]
    },
    {
      "cell_type": "markdown",
      "metadata": {
        "id": "jUwQRjgy9Kfz"
      },
      "source": [
        "Si esegua la seguente cella per utilizzare il modello **medium** allenato esclusivamente sul **layer fully-connected**."
      ]
    },
    {
      "cell_type": "code",
      "execution_count": null,
      "metadata": {
        "id": "hacmfjTU9EAn"
      },
      "outputs": [],
      "source": [
        "!cp /content/Projects/benedettini_medium_train_fc/weights/best.pt /content/model.pt"
      ]
    },
    {
      "cell_type": "markdown",
      "metadata": {
        "id": "Hc2kqGAI9SQa"
      },
      "source": [
        "Si esegua la seguente cella per utilizzare il modello **large**."
      ]
    },
    {
      "cell_type": "code",
      "execution_count": null,
      "metadata": {
        "id": "og5nIKaP9NrV"
      },
      "outputs": [],
      "source": [
        "!cp /content/Projects/benedettini_large_train/weights/best.pt /content/model.pt"
      ]
    },
    {
      "cell_type": "markdown",
      "metadata": {
        "id": "5joAD-xX9VeK"
      },
      "source": [
        "Si esegua la seguente cella per utilizzare il modello **large** allenato esclusivamente sul **layer fully-connected**."
      ]
    },
    {
      "cell_type": "code",
      "execution_count": null,
      "metadata": {
        "id": "bEDvB1-r9cXg"
      },
      "outputs": [],
      "source": [
        "!cp /content/Projects/benedettini_large_train_fc/weights/best.pt /content/model.pt"
      ]
    },
    {
      "cell_type": "markdown",
      "metadata": {
        "id": "gf2RAmUJfdNT"
      },
      "source": [
        "## Palazzo Bellomo\n",
        "Si esegua la seguente cella per utilizzare il modello **small**."
      ]
    },
    {
      "cell_type": "code",
      "execution_count": null,
      "metadata": {
        "id": "uif5gACDgWOV"
      },
      "outputs": [],
      "source": [
        "!cp /content/Projects/bellomo_small_train/weights/best.pt /content/model.pt"
      ]
    },
    {
      "cell_type": "markdown",
      "metadata": {
        "id": "v0FN2oio9pQk"
      },
      "source": [
        "Si esegua la seguente cella per utilizzare il modello **small** allenato esclusivamente sul **layer fully-connected**."
      ]
    },
    {
      "cell_type": "code",
      "execution_count": null,
      "metadata": {
        "id": "C0kb6tgZ9qQo"
      },
      "outputs": [],
      "source": [
        "!cp /content/Projects/bellomo_small_train_fc/weights/best.pt /content/model.pt"
      ]
    },
    {
      "cell_type": "markdown",
      "metadata": {
        "id": "gfcxEC4r9tLH"
      },
      "source": [
        "Si esegua la seguente cella per utilizzare il modello **medium**."
      ]
    },
    {
      "cell_type": "code",
      "execution_count": null,
      "metadata": {
        "id": "q3L9DyBt9wtW"
      },
      "outputs": [],
      "source": [
        "!cp /content/Projects/bellomo_medium_train/weights/best.pt /content/model.pt"
      ]
    },
    {
      "cell_type": "markdown",
      "metadata": {
        "id": "p0ro8a459zSK"
      },
      "source": [
        "Si esegua la seguente cella per utilizzare il modello **medium** allenato esclusivamente sul **layer fully-connected**."
      ]
    },
    {
      "cell_type": "code",
      "execution_count": null,
      "metadata": {
        "id": "ScNbOXPr9y5W"
      },
      "outputs": [],
      "source": [
        "!cp /content/Projects/bellomo_medium_train_fc/weights/best.pt /content/model.pt"
      ]
    },
    {
      "cell_type": "markdown",
      "metadata": {
        "id": "f1tfAK-R9zua"
      },
      "source": [
        "Si esegua la seguente cella per utilizzare il modello **large**.\n"
      ]
    },
    {
      "cell_type": "code",
      "execution_count": null,
      "metadata": {
        "id": "nOH0BNaV9ytf"
      },
      "outputs": [],
      "source": [
        "!cp /content/Projects/bellomo_large_train/weights/best.pt /content/model.pt"
      ]
    },
    {
      "cell_type": "markdown",
      "metadata": {
        "id": "8q1dGFiy962e"
      },
      "source": [
        "Si esegua la seguente cella per utilizzare il modello **large** allenato esclusivamente sul **layer fully-connected**.\n"
      ]
    },
    {
      "cell_type": "code",
      "execution_count": null,
      "metadata": {
        "id": "NdcSRUgV97Np"
      },
      "outputs": [],
      "source": [
        "!cp /content/Projects/bellomo_large_train_fc/weights/best.pt /content/model.pt"
      ]
    },
    {
      "cell_type": "markdown",
      "metadata": {
        "id": "bl4aL1SFhShI"
      },
      "source": [
        "# 4 - Inferenza su immagini\n",
        "Eseguendo la cella di seguito, è possibile caricare un file immagine ed effettuare un'inferenza su di essa."
      ]
    },
    {
      "cell_type": "code",
      "execution_count": null,
      "metadata": {
        "id": "q4O5QwmfpV6a"
      },
      "outputs": [],
      "source": [
        "from google.colab import files\n",
        "from IPython.display import Image, display\n",
        "import os\n",
        "\n",
        "uploaded = files.upload()\n",
        "for fn in uploaded.keys():\n",
        "  fn_p = '/content/' + fn\n",
        "  os.system(\"rm -rf /content/yolov5/runs/detect\")\n",
        "  os.system(\"python /content/yolov5/detect.py --weights /content/model.pt --img 640 --conf 0.50 --source \" + fn_p)\n",
        "  display(Image(filename='/content/yolov5/runs/detect/exp/' + fn))"
      ]
    }
  ],
  "metadata": {
    "colab": {
      "collapsed_sections": [],
      "name": "EGO-CH_YOLOv5_demo.ipynb",
      "provenance": []
    },
    "kernelspec": {
      "display_name": "Python 3.10.5 64-bit",
      "language": "python",
      "name": "python3"
    },
    "language_info": {
      "name": "python",
      "version": "3.10.5"
    },
    "vscode": {
      "interpreter": {
        "hash": "e611b0851ec25071b4b85132416ea565c11a628bf418623b3546e687a0b7c369"
      }
    }
  },
  "nbformat": 4,
  "nbformat_minor": 0
}
